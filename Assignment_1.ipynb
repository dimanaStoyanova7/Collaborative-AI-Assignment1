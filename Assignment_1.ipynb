{
  "cells": [
    {
      "cell_type": "markdown",
      "metadata": {
        "id": "view-in-github",
        "colab_type": "text"
      },
      "source": [
        "<a href=\"https://colab.research.google.com/github/dimanaStoyanova7/Collaborative-AI-Assignment1/blob/main/Assignment_1.ipynb\" target=\"_parent\"><img src=\"https://colab.research.google.com/assets/colab-badge.svg\" alt=\"Open In Colab\"/></a>"
      ]
    },
    {
      "cell_type": "markdown",
      "metadata": {
        "id": "dMiT4F2QfhSe"
      },
      "source": [
        "# **Machine Learning - Assignment 1**\n",
        "\n",
        "*These lab assignments are new in the Machine and Deep Learning course. We'd like to hear what you think!*\n",
        "\n",
        "*Please post any feedback you have on Brightspace. Thanks!*"
      ]
    },
    {
      "cell_type": "markdown",
      "metadata": {
        "id": "IWm0gUf3fhSh"
      },
      "source": [
        "---"
      ]
    },
    {
      "cell_type": "markdown",
      "metadata": {
        "id": "rmLKU2QHfhSh"
      },
      "source": [
        "## Introduction - Basics of Machine Learning\n",
        "\n",
        "In this assignment, you will go through some of the basic concepts of machine learning. You will learn about the Bayes' rule, decision boundaries, and how to classify simple datasets. You will also get familiar with the PRTools library, which is a toolbox for pattern recognition in Python.\n",
        "\n",
        "**Prerequisites:**\n",
        "* Basic working knowledge of multivariate statistics and linear algebra\n",
        "* Basic knowledge of Python and Numpy. Recommended tutorial for Python and Numpy [here](https://cs231n.github.io/python-numpy-tutorial/).\n",
        "\n",
        "**Learning objectives:**\n",
        "* Should be able to mathematically derive decision boundaries given simple probability density functions\n",
        "* Should be able to perform simple computations with Bayes’ rule\n",
        "* Should be familiar with working under Python\n",
        "* Understand some PRTools commands\n",
        "* Know what an object and a dataset are\n",
        "* Should be able to construct, visualize and classify some simple datasets\n",
        "\n",
        "**Exercises types:**\n",
        "* **Pen \\& Paper** - Some exercises will ask you to write down mathematical derivations, calculations, explanations, or simple plots and representations. You can perform these exercises on paper or using a LaTeX editor.\n",
        "* **Coding** - Some exercises will ask you to write Python code.\n"
      ]
    },
    {
      "cell_type": "markdown",
      "metadata": {
        "id": "9TYmD4x_fhSi"
      },
      "source": [
        "---"
      ]
    },
    {
      "cell_type": "markdown",
      "metadata": {
        "id": "YSJx5UyPfhSi"
      },
      "source": [
        "## 1 - Decision Theory (**Pen \\& Paper**)"
      ]
    },
    {
      "cell_type": "markdown",
      "metadata": {
        "id": "AvlappAsfhSj"
      },
      "source": [
        "### **Exercise 1.1**\n",
        "\n",
        "#### (a) Gaussian Distributions with Equal Priors\n",
        "\n",
        "Assume that we managed to represent objects from a two-class classification problem by a single feature. We know that the objects from class $ \\omega_1 $ have a Gaussian distribution with $ \\mu_1 = 0 $ and $ \\sigma_1^2 = \\frac{1}{2} $, and the objects from class $ \\omega_2 $ have a Gaussian distribution with $ \\mu_2 = 1 $ and $ \\sigma_2^2 = \\frac{1}{2} $.\n",
        "\n",
        "Derive the position of the decision boundary when both class priors are equal.\n",
        "\n",
        "#### (b) Uniform Distributions between Different Ranges\n",
        "\n",
        "Again, assume we have a two-class classification problem in a 1D feature space, but now assume that objects from class $ \\omega_1 $ have a uniform distribution between 0 and 1, and objects from class $ \\omega_2 $ have a uniform distribution between 2 and 3.\n",
        "\n",
        "Where is the decision boundary now?\n",
        "\n",
        "#### (c) Decision Boundary with Overlapping Uniform Distributions\n",
        "\n",
        "Where is the decision boundary when the objects from class $ \\omega_2 $ have a uniform distribution between 0.5 and 1.5? (The distribution of $ \\omega_1 $ did not change, classes have equal prior.)\n",
        "\n",
        "#### (d) Decision Boundary with Extended Uniform Distributions\n",
        "\n",
        "And where is the decision boundary when the objects from class $ \\omega_2 $ have a uniform distribution between 0.5 and 2.5? (The distribution of $ \\omega_1 $ did not change, classes have equal prior.)"
      ]
    },
    {
      "cell_type": "markdown",
      "metadata": {
        "id": "mtYbPgCJfhSj"
      },
      "source": [
        "### **Exercise 1.2**\n",
        "\n",
        "#### (a) Decision Boundary with Loss Matrix\n",
        "\n",
        "Assume we represent the objects in a two-class classification problem by a single feature. We know that the objects from class $ \\omega_1 $ have a Gaussian distribution with $ \\mu_1 = 0 $ and $ \\sigma_1^2 = \\frac{1}{2} $, and the objects from class $ \\omega_2 $ have a Gaussian distribution with $ \\mu_2 = 1 $ and $ \\sigma_2^2 = \\frac{1}{2} $. Derive the position of the decision boundary when both class priors are equal, but we have a loss matrix of:\n",
        "\n",
        "$$\n",
        "L = \\begin{pmatrix}\n",
        "0 & 0.5 \\\\\n",
        "1.0 & 0\n",
        "\\end{pmatrix}\n",
        "$$\n",
        "\n",
        "#### (b) Decision Boundary with Loss Matrix for Overlapping Uniform Distributions\n",
        "\n",
        "Assume again we have a two-class classification problem in a 1D feature space, but now assume that objects from class $ \\omega_1 $ have a uniform distribution between 0 and 1, and objects from class $ \\omega_2 $ have a uniform distribution between 0.5 and 2.5. Given the loss matrix (1.1), where is the decision boundary now?\n",
        "\n"
      ]
    },
    {
      "cell_type": "markdown",
      "metadata": {
        "id": "WJKwDBqmfhSk"
      },
      "source": [
        "---"
      ]
    },
    {
      "cell_type": "markdown",
      "metadata": {
        "id": "u4l-frpPfhSj"
      },
      "source": [
        "### **Exercise 1.3**\n",
        "\n",
        "In the figure below, two triangular-shaped class conditional probability density functions are given. The first one $ p(x|\\omega_1) $ is indicated by a dashed blue line and the second $ p(x|\\omega_2) $ with a solid black line. The class priors are assumed equal here.\n",
        "\n",
        "![Local Image](https://drive.usercontent.google.com/download?id=1boxOLn2-4amJ-E8smrAiDMNEfE8tF9LE&export=view&authuser=0)\n",
        "\n",
        "#### (a) Class Posterior Probabilities Using Bayes' Rule\n",
        "\n",
        "Use the Bayes' rule to derive the class posterior probabilities of the following objects: $ x = 3 $, $ x = -0.5 $, $ x = +0.5 $. To which class are the objects therefore assigned?\n",
        "\n",
        "#### (b) Decision Boundary of the Bayes Classifier\n",
        "\n",
        "Which object is on the decision boundary of the Bayes classifier?\n",
        "\n",
        "### **Exercise 1.4**\n",
        "\n",
        "Now assume that class $ \\omega_1 $ in the figure is twice as small as class $ \\omega_2 $. That means $ p(\\omega_1) = \\frac{1}{3} $ and $ p(\\omega_2) = \\frac{2}{3} $.\n",
        "\n",
        "#### (a) Posterior Probabilities with Updated Priors\n",
        "\n",
        "Compute the posterior probabilities for $ x = 3 $, $ x = -0.5 $, $ x = 0.5 $.\n",
        "\n",
        "#### (b) Decision Boundary with Updated Priors\n",
        "\n",
        "Where is the decision boundary of the Bayes classifier now?\n",
        "\n",
        "### **Exercise 1.5**\n",
        "\n",
        "Compute the Bayes error for the class distributions given in the figure above, where the classes have equal prior.\n",
        "\n"
      ]
    },
    {
      "cell_type": "markdown",
      "metadata": {
        "id": "cZ68KDXAfhSk"
      },
      "source": [
        "Before moving on to the coding exercises for this week, let's first revise some basic concepts of the PRTools library."
      ]
    },
    {
      "cell_type": "markdown",
      "metadata": {
        "id": "yriXmiRAfhSk"
      },
      "source": [
        "### **Tutorial** - PRTools Basics"
      ]
    },
    {
      "cell_type": "code",
      "execution_count": 2,
      "metadata": {
        "id": "jC4yhBArfhSk",
        "colab": {
          "base_uri": "https://localhost:8080/"
        },
        "outputId": "0615ca90-20d7-4a72-867b-bb99ef3e7b63"
      },
      "outputs": [
        {
          "output_type": "stream",
          "name": "stdout",
          "text": [
            "Collecting git+https://github.com/DMJTax/prtools.git\n",
            "  Cloning https://github.com/DMJTax/prtools.git to /tmp/pip-req-build-fic2ffwf\n",
            "  Running command git clone --filter=blob:none --quiet https://github.com/DMJTax/prtools.git /tmp/pip-req-build-fic2ffwf\n",
            "  Resolved https://github.com/DMJTax/prtools.git to commit 75d154313ba6a659b0ccd812eb2533929c043927\n",
            "  Preparing metadata (setup.py) ... \u001b[?25l\u001b[?25hdone\n",
            "Requirement already satisfied: scikit-learn in /usr/local/lib/python3.12/dist-packages (from prtools==1.2.1) (1.6.1)\n",
            "Requirement already satisfied: numpy in /usr/local/lib/python3.12/dist-packages (from prtools==1.2.1) (2.0.2)\n",
            "Requirement already satisfied: matplotlib in /usr/local/lib/python3.12/dist-packages (from prtools==1.2.1) (3.10.0)\n",
            "Requirement already satisfied: requests in /usr/local/lib/python3.12/dist-packages (from prtools==1.2.1) (2.32.4)\n",
            "Requirement already satisfied: contourpy>=1.0.1 in /usr/local/lib/python3.12/dist-packages (from matplotlib->prtools==1.2.1) (1.3.3)\n",
            "Requirement already satisfied: cycler>=0.10 in /usr/local/lib/python3.12/dist-packages (from matplotlib->prtools==1.2.1) (0.12.1)\n",
            "Requirement already satisfied: fonttools>=4.22.0 in /usr/local/lib/python3.12/dist-packages (from matplotlib->prtools==1.2.1) (4.59.2)\n",
            "Requirement already satisfied: kiwisolver>=1.3.1 in /usr/local/lib/python3.12/dist-packages (from matplotlib->prtools==1.2.1) (1.4.9)\n",
            "Requirement already satisfied: packaging>=20.0 in /usr/local/lib/python3.12/dist-packages (from matplotlib->prtools==1.2.1) (25.0)\n",
            "Requirement already satisfied: pillow>=8 in /usr/local/lib/python3.12/dist-packages (from matplotlib->prtools==1.2.1) (11.3.0)\n",
            "Requirement already satisfied: pyparsing>=2.3.1 in /usr/local/lib/python3.12/dist-packages (from matplotlib->prtools==1.2.1) (3.2.3)\n",
            "Requirement already satisfied: python-dateutil>=2.7 in /usr/local/lib/python3.12/dist-packages (from matplotlib->prtools==1.2.1) (2.9.0.post0)\n",
            "Requirement already satisfied: charset_normalizer<4,>=2 in /usr/local/lib/python3.12/dist-packages (from requests->prtools==1.2.1) (3.4.3)\n",
            "Requirement already satisfied: idna<4,>=2.5 in /usr/local/lib/python3.12/dist-packages (from requests->prtools==1.2.1) (3.10)\n",
            "Requirement already satisfied: urllib3<3,>=1.21.1 in /usr/local/lib/python3.12/dist-packages (from requests->prtools==1.2.1) (2.5.0)\n",
            "Requirement already satisfied: certifi>=2017.4.17 in /usr/local/lib/python3.12/dist-packages (from requests->prtools==1.2.1) (2025.8.3)\n",
            "Requirement already satisfied: scipy>=1.6.0 in /usr/local/lib/python3.12/dist-packages (from scikit-learn->prtools==1.2.1) (1.16.1)\n",
            "Requirement already satisfied: joblib>=1.2.0 in /usr/local/lib/python3.12/dist-packages (from scikit-learn->prtools==1.2.1) (1.5.2)\n",
            "Requirement already satisfied: threadpoolctl>=3.1.0 in /usr/local/lib/python3.12/dist-packages (from scikit-learn->prtools==1.2.1) (3.6.0)\n",
            "Requirement already satisfied: six>=1.5 in /usr/local/lib/python3.12/dist-packages (from python-dateutil>=2.7->matplotlib->prtools==1.2.1) (1.17.0)\n",
            "Building wheels for collected packages: prtools\n",
            "  Building wheel for prtools (setup.py) ... \u001b[?25l\u001b[?25hdone\n",
            "  Created wheel for prtools: filename=prtools-1.2.1-py3-none-any.whl size=1886934 sha256=b721382116f152de03fdf6fe1b5a100895cff80f4c79a08c33f9df5dfeb61eac\n",
            "  Stored in directory: /tmp/pip-ephem-wheel-cache-kr4w6t_6/wheels/79/f5/55/082fd9b06b7d33f0c9e8e8fb3b29dfe2eb5d50d0abd7c8db1a\n",
            "Successfully built prtools\n",
            "Installing collected packages: prtools\n",
            "Successfully installed prtools-1.2.1\n"
          ]
        }
      ],
      "source": [
        "!pip install git+https://github.com/DMJTax/prtools.git\n",
        "\n"
      ]
    },
    {
      "cell_type": "code",
      "execution_count": 3,
      "metadata": {
        "id": "vDc1jr-SfhSm"
      },
      "outputs": [],
      "source": [
        "import numpy as np\n",
        "import matplotlib.pyplot as plt\n",
        "import prtools as pr"
      ]
    },
    {
      "cell_type": "code",
      "execution_count": null,
      "metadata": {
        "id": "xzL5lqjUfhSm"
      },
      "outputs": [],
      "source": [
        "# Use the following code to create a dummy dataset containing 10 objects with 2 features each.\n",
        "\n",
        "x = np.array(\n",
        "    [[1, 5], [4, 5], [7, 8],\n",
        "    [10, 11], [11, 14], [16, 17],\n",
        "    [19, 20], [22, 2], [25, 23],\n",
        "    [28, 20]]\n",
        "    )"
      ]
    },
    {
      "cell_type": "code",
      "execution_count": null,
      "metadata": {
        "id": "adFuF1LbfhSm",
        "colab": {
          "base_uri": "https://localhost:8080/"
        },
        "outputId": "7e4ffe05-9d4f-41eb-eb5f-6413579a22dd"
      },
      "outputs": [
        {
          "output_type": "stream",
          "name": "stdout",
          "text": [
            "Mean: [14.3 12.5]\n",
            "Std: [8.67236992 7.00357052]\n",
            "\n",
            "Mean: [ 3.   4.5  7.5 10.5 12.5 16.5 19.5 12.  24.  24. ]\n",
            "Std: [ 2.   0.5  0.5  0.5  1.5  0.5  0.5 10.   1.   4. ]\n",
            "\n",
            "Mean: 13.4\n",
            "Std: 7.933473388119481\n"
          ]
        }
      ],
      "source": [
        "#To compute the means and std of the features, you can use the available numpy functions.\n",
        "\n",
        "# The 'axis' parameter specifies the dimension along which the mean/std should be computed.\n",
        "\n",
        "# If axis=0, the mean/std is computed for each feature across all objects.\n",
        "\n",
        "mean = np.mean(x, axis=0)\n",
        "std = np.std(x, axis=0)\n",
        "\n",
        "print('Mean:', mean)\n",
        "print('Std:', std)\n",
        "print()\n",
        "\n",
        "# If axis=1, the mean/std is computed for each object across all features.\n",
        "\n",
        "mean = np.mean(x, axis=1)\n",
        "std = np.std(x, axis=1)\n",
        "\n",
        "print('Mean:', mean)\n",
        "print('Std:', std)\n",
        "print()\n",
        "\n",
        "# If the parameter is not specified, the mean/std is computed for all elements in the array.\n",
        "\n",
        "mean = np.mean(x)\n",
        "std = np.std(x)\n",
        "\n",
        "print('Mean:', mean)\n",
        "print('Std:', std)"
      ]
    },
    {
      "cell_type": "code",
      "execution_count": null,
      "metadata": {
        "id": "iWIXrPECfhSn"
      },
      "outputs": [],
      "source": [
        "#When a dataset contains just two features per object, it can be visualized in a scatterplot\n",
        "\n",
        "plt.scatter(x[:, 0], x[:, 1])"
      ]
    },
    {
      "cell_type": "code",
      "execution_count": null,
      "metadata": {
        "id": "ZG2XUPLxfhSn",
        "colab": {
          "base_uri": "https://localhost:8080/"
        },
        "outputId": "eb16e623-e30c-4fb1-f034-c9fb3e4376d3"
      },
      "outputs": [
        {
          "output_type": "stream",
          "name": "stdout",
          "text": [
            "10 by 2 prdataset with 2 classes: [4 6]\n"
          ]
        }
      ],
      "source": [
        "#You can create labels for the previously generated data by defining another numpy array\n",
        "\n",
        "lab = np.array([1,1,1,1,2,2,2,2,2,2]).reshape(10,1)\n",
        "#lab = np.array([[1,1,1,1,2,2,2,2,2,2]]).T # alternative\n",
        "\n",
        "#Then, you can create a PRTools dataset using the prdataset function\n",
        "\n",
        "a = pr.prdataset(x,lab)\n",
        "print(a)"
      ]
    },
    {
      "cell_type": "code",
      "execution_count": null,
      "metadata": {
        "id": "S4MZLwOTfhSn"
      },
      "outputs": [],
      "source": [
        "#If visualized, it will show the labels in different colors\n",
        "\n",
        "pr.scatterd(a)"
      ]
    },
    {
      "cell_type": "code",
      "execution_count": null,
      "metadata": {
        "id": "mXBPlCSxfhSn"
      },
      "outputs": [],
      "source": [
        "#There is a set of predefined datasets in PRTools that can be loaded using\n",
        "#functions as gendatb, gendatc, gendats ...\n",
        "\n",
        "#For instance, to load a Banana shaped dataset, you can use the following line\n",
        "\n",
        "b = pr.gendatb()\n",
        "print(b)\n",
        "\n",
        "#... and then visualize it\n",
        "pr.scatterd(b)\n",
        "\n",
        "#Other datasets that can be loaded in the same way:\n",
        "\n",
        "# - gendatc: generation of circular classes\n",
        "# - gendats: generation of two Gaussian classes\n",
        "# - gendatd: generation of two difficult classes\n",
        "# - gendath: generation of the hygleyman dataset\n",
        "# ... and more!"
      ]
    },
    {
      "cell_type": "code",
      "execution_count": null,
      "metadata": {
        "id": "ukakzJxGfhSo"
      },
      "outputs": [],
      "source": [
        "#Assume we want to train a nearest mean classifier on the defined Banana dataset. In PRTools you do:\n",
        "\n",
        "w = pr.nmc()\n",
        "w.train(b)\n",
        "print(w) # this will show the classifier parameters\n",
        "\n",
        "c = w.eval(b)\n",
        "print(c)\n",
        "\n",
        "e = pr.testc(c)\n",
        "print(e) # this will show the classification error\n",
        "\n",
        "#to visualize the decision boundary of the classifier, you can use the following code\n",
        "\n",
        "pr.scatterd(b)\n",
        "pr.plotc(w)"
      ]
    },
    {
      "cell_type": "code",
      "execution_count": null,
      "metadata": {
        "id": "0QHkfU3efhSo"
      },
      "outputs": [],
      "source": [
        "#Some classifiers require additional hyperparameters to be specified.\n",
        "#For instance, in the support vector classifier, you can specify the kernel, a kernel parameter, and a regularisation parameter.\n",
        "#Or in the k-nearest neighbor classifier you can specify the number of neighbors k.\n",
        "#You can supply that as additional input during training. For example, for svc:\n",
        "\n",
        "w = pr.svc(('rbf',4.5,1 ))\n",
        "w.train(b)\n",
        "print(w)\n",
        "\n",
        "c = w.eval(b)\n",
        "print(c)\n",
        "\n",
        "e = pr.testc(c)\n",
        "print(e)\n",
        "\n",
        "pr.scatterd(b)\n",
        "pr.plotc(w)"
      ]
    },
    {
      "cell_type": "code",
      "execution_count": null,
      "metadata": {
        "id": "VZt3aiqyfhSo"
      },
      "outputs": [],
      "source": [
        "#... or for knnc:\n",
        "\n",
        "w = pr.knnc(3)\n",
        "w.train(b)\n",
        "print(w)\n",
        "\n",
        "c = w.eval(b)\n",
        "print(c)\n",
        "\n",
        "e = pr.testc(c)\n",
        "print(e)\n",
        "\n",
        "pr.scatterd(b)\n",
        "pr.plotc(w)"
      ]
    },
    {
      "cell_type": "markdown",
      "metadata": {
        "id": "-C4e4tycfhSo"
      },
      "source": [
        "---"
      ]
    },
    {
      "cell_type": "markdown",
      "metadata": {
        "id": "RH6DN9r3fhSo"
      },
      "source": [
        "## 2 - Creating Maps and Decision Boundaries (**Coding**)\n",
        "\n",
        "So far, we have visualized the decision boundary and computed the classification error on a the training set. However, the classification error on the training set is not a good indicator of the performance of the classifier. Here is a complete example of training a svc classifier and visualizing the decision boundary and classification error on a test set.\n"
      ]
    },
    {
      "cell_type": "code",
      "execution_count": 8,
      "metadata": {
        "id": "p_ukd2sOfhSp",
        "outputId": "2e673262-3841-46ce-ac04-16086aa186de",
        "colab": {
          "base_uri": "https://localhost:8080/",
          "height": 541
        }
      },
      "outputs": [
        {
          "output_type": "stream",
          "name": "stdout",
          "text": [
            "Difficult dataset 40 by 2 prdataset with 2 classes: [20 20]\n",
            "Difficult dataset 40 by 2 prdataset with 2 classes: [20 20]\n",
            "0.025\n"
          ]
        },
        {
          "output_type": "execute_result",
          "data": {
            "text/plain": [
              "[<matplotlib.lines.Line2D at 0x7ae17e6c6240>]"
            ]
          },
          "metadata": {},
          "execution_count": 8
        },
        {
          "output_type": "display_data",
          "data": {
            "text/plain": [
              "<Figure size 640x480 with 1 Axes>"
            ],
            "image/png": "[encoded data removed]"
          },
          "metadata": {}
        }
      ],
      "source": [
        "#Create hard training dataset using gendatd\n",
        "\n",
        "d = pr.gendatd() #generate the dataset\n",
        "print(d)\n",
        "\n",
        "#Train a ldc classifier on the dataset\n",
        "\n",
        "w = pr.svc() #define a support vector classifier\n",
        "w.train(d) #train in on the dataset\n",
        "\n",
        "#Evaluate the classifier on the training set\n",
        "\n",
        "c = w.eval(d) #evaluate it on the training set\n",
        "print(c)\n",
        "\n",
        "e = pr.testc(c) #compute the classification error\n",
        "print(e)\n",
        "\n",
        "#Visualize the training set\n",
        "\n",
        "pr.scatterd(d) #visualize the training set\n",
        "pr.plotc(w) #also visualize the classifier on top\n"
      ]
    },
    {
      "cell_type": "code",
      "execution_count": 9,
      "metadata": {
        "id": "ifF1k-SHfhSp",
        "outputId": "8d281427-f852-46be-cbb3-3fbbf4f6de77",
        "colab": {
          "base_uri": "https://localhost:8080/",
          "height": 541
        }
      },
      "outputs": [
        {
          "output_type": "stream",
          "name": "stdout",
          "text": [
            "Difficult dataset 40 by 2 prdataset with 2 classes: [20 20]\n",
            "Difficult dataset 40 by 2 prdataset with 2 classes: [20 20]\n",
            "0.35\n"
          ]
        },
        {
          "output_type": "execute_result",
          "data": {
            "text/plain": [
              "[<matplotlib.lines.Line2D at 0x7ae17e7d3710>]"
            ]
          },
          "metadata": {},
          "execution_count": 9
        },
        {
          "output_type": "display_data",
          "data": {
            "text/plain": [
              "<Figure size 640x480 with 1 Axes>"
            ],
            "image/png": "[encoded data removed]"
          },
          "metadata": {}
        }
      ],
      "source": [
        "#Create a test dataset using gendatd\n",
        "\n",
        "t = pr.gendatd() # generate the dataset\n",
        "print(t)\n",
        "\n",
        "#Evaluate the classifier on the test set\n",
        "\n",
        "c = w.eval(t)\n",
        "print(c)\n",
        "\n",
        "e = pr.testc(c)\n",
        "print(e)\n",
        "\n",
        "#Visualize the test set\n",
        "\n",
        "pr.scatterd(t)\n",
        "pr.plotc(w)"
      ]
    },
    {
      "cell_type": "markdown",
      "metadata": {
        "id": "RxIviYKEfhSp"
      },
      "source": [
        "### **Exercise 2.1**\n",
        "\n",
        "Train the following classifiers on some 2D datasets and visualize the decision boundaries. Also visualize the error on the test set.\n",
        "\n",
        "**Classifiers:**\n",
        "* ldc -> Linear discriminant analysis\n",
        "* qdc -> Quadratic discriminant analysis\n",
        "* nmc -> Nearest mean classifier\n",
        "* fisherc -> Fishers linear discriminant\n",
        "* knnc -> k-nearest neighbor classifier\n",
        "* parzenc -> Parzen classifier\n",
        "* naivebc -> Naive-Bayes classifier\n",
        "* mogc -> Mixture-of-Gaussians classifier\n",
        "* stumpc -> Decision stump classifier\n",
        "* dectreec -> Decision tree classifier\n",
        "* adaboostc -> AdaBoost\n",
        "* svc -> Support vector classifier"
      ]
    },
    {
      "cell_type": "code",
      "execution_count": 21,
      "metadata": {
        "id": "m3wHs2bcfhSp",
        "outputId": "5a5720e9-be73-4807-abfa-21c9a046d274",
        "colab": {
          "base_uri": "https://localhost:8080/",
          "height": 559
        }
      },
      "outputs": [
        {
          "output_type": "stream",
          "name": "stdout",
          "text": [
            "Difficult dataset 40 by 2 prdataset with 2 classes: [20 20]\n",
            "0.0\n",
            "Difficult dataset 40 by 2 prdataset with 2 classes: [20 20]\n",
            "0.2\n"
          ]
        },
        {
          "output_type": "execute_result",
          "data": {
            "text/plain": [
              "[<matplotlib.lines.Line2D at 0x7ae17d7cfd40>]"
            ]
          },
          "metadata": {},
          "execution_count": 21
        },
        {
          "output_type": "display_data",
          "data": {
            "text/plain": [
              "<Figure size 640x480 with 1 Axes>"
            ],
            "image/png": "[encoded data removed]"
          },
          "metadata": {}
        }
      ],
      "source": [
        "#Write your code here\n",
        "train = pr.gendatd()\n",
        "test = pr.gendatd()\n",
        "# ldc -> Linear discriminant analysis\n",
        "w = pr.svc()\n",
        "w.train(train)\n",
        "#compute the error on the train set\n",
        "c_train = w.eval(train)\n",
        "print(c_train)\n",
        "e_train = pr.testc(c_train)\n",
        "print(e_train)\n",
        "#print the train set\n",
        "# pr.scatterd(train)\n",
        "# pr.plotc(w)\n",
        "#compute the error on the test set\n",
        "c_test = w.eval(test)\n",
        "print(c_test)\n",
        "e_test = pr.testc(c_test)\n",
        "print(e_test)\n",
        "pr.scatterd(test)\n",
        "pr.plotc(w)\n",
        "#print the test set\n",
        "\n",
        "\n",
        "# qdc -> Quadratic discriminant analysis\n",
        "# nmc -> Nearest mean classifier\n",
        "# fisherc -> Fishers linear discriminant\n",
        "# knnc -> k-nearest neighbor classifier\n",
        "# parzenc -> Parzen classifier\n",
        "# naivebc -> Naive-Bayes classifier\n",
        "# mogc -> Mixture-of-Gaussians classifier\n",
        "# stumpc -> Decision stump classifier\n",
        "# dectreec -> Decision tree classifier\n",
        "# adaboostc -> AdaBoost\n",
        "# svc -> Support vector classifier"
      ]
    },
    {
      "cell_type": "markdown",
      "metadata": {
        "id": "WYGg-bg5fhSp"
      },
      "source": [
        "---\n"
      ]
    },
    {
      "cell_type": "markdown",
      "metadata": {
        "id": "Wn09cvyGfhSp"
      },
      "source": [
        "## 3 - Classification with Normal Densities (**Coding**)"
      ]
    },
    {
      "cell_type": "markdown",
      "metadata": {
        "id": "AqhoaMLyfhSq"
      },
      "source": [
        "### **Exercise 3.1**\n",
        "\n",
        "Consider two 2D normal distributions with different means but equal covariance matrices.\n"
      ]
    },
    {
      "cell_type": "markdown",
      "metadata": {
        "id": "RLo9loxufhSq"
      },
      "source": [
        "#### (a) Shape of the Optimal Decision Boundary\n",
        "\n",
        "What shape does the optimal decision boundary have?\n",
        "\n",
        "Generate 10 data points per class from a data set that fulfills the above assumptions. Create a data set with these 20 points and these two classes. We can estimate linear discriminants by means of `ldc(a)` and quadratic discriminant boundaries by means of `qdc(a)`."
      ]
    },
    {
      "cell_type": "code",
      "execution_count": 1,
      "metadata": {
        "id": "wxZs9ESafhSq",
        "outputId": "2bbd5298-3268-441f-f113-2a5d584a2a9b",
        "colab": {
          "base_uri": "https://localhost:8080/",
          "height": 159
        }
      },
      "outputs": [
        {
          "output_type": "error",
          "ename": "NameError",
          "evalue": "name 'pr' is not defined",
          "traceback": [
            "\u001b[0;31m---------------------------------------------------------------------------\u001b[0m",
            "\u001b[0;31mNameError\u001b[0m                                 Traceback (most recent call last)",
            "\u001b[0;32m/tmp/ipython-input-2520461877.py\u001b[0m in \u001b[0;36m<cell line: 0>\u001b[0;34m()\u001b[0m\n\u001b[0;32m----> 1\u001b[0;31m \u001b[0mdata\u001b[0m \u001b[0;34m=\u001b[0m \u001b[0mpr\u001b[0m\u001b[0;34m.\u001b[0m\u001b[0mgendats\u001b[0m\u001b[0;34m(\u001b[0m\u001b[0;34m[\u001b[0m\u001b[0;36m10\u001b[0m\u001b[0;34m,\u001b[0m\u001b[0;36m10\u001b[0m\u001b[0;34m]\u001b[0m\u001b[0;34m)\u001b[0m\u001b[0;34m\u001b[0m\u001b[0;34m\u001b[0m\u001b[0m\n\u001b[0m\u001b[1;32m      2\u001b[0m \u001b[0mpr\u001b[0m\u001b[0;34m.\u001b[0m\u001b[0mscatterd\u001b[0m\u001b[0;34m(\u001b[0m\u001b[0mdata\u001b[0m\u001b[0;34m)\u001b[0m\u001b[0;34m\u001b[0m\u001b[0;34m\u001b[0m\u001b[0m\n",
            "\u001b[0;31mNameError\u001b[0m: name 'pr' is not defined"
          ]
        }
      ],
      "source": [
        "data = pr.gendats([10,10])\n",
        "pr.scatterd(data)"
      ]
    },
    {
      "cell_type": "markdown",
      "metadata": {
        "id": "v5z9d83XfhSq"
      },
      "source": [
        "#### (b) Shape of the Quadratic Discriminant Boundary\n",
        "\n",
        "Given the shape of the optimal decision boundary, how does the boundary look for the trained normal density-based quadratic discriminant?\n",
        "\n",
        "The PRTools command `plotc` plots the decision boundary. If you plotted decision boundaries of multiple classifiers in one plot command `pr.plotc([w1, w2])`, you will get a legend."
      ]
    },
    {
      "cell_type": "code",
      "execution_count": null,
      "metadata": {
        "id": "XBC06attfhSq"
      },
      "outputs": [],
      "source": [
        "#Write your solution here"
      ]
    },
    {
      "cell_type": "markdown",
      "metadata": {
        "id": "sGmHZbsVfhSr"
      },
      "source": [
        "#### (c) Scatter Plot and Decision Boundaries\n",
        "\n",
        "Scatter the data set and plot the decision boundary estimated by means of `ldc(a)` and `qdc(a)`. Can you explain their difference? You might want to revisit the previous question (b)."
      ]
    },
    {
      "cell_type": "code",
      "execution_count": null,
      "metadata": {
        "id": "e6kCqUUofhSr"
      },
      "outputs": [],
      "source": [
        "#Write your solution here"
      ]
    },
    {
      "cell_type": "markdown",
      "metadata": {
        "id": "CwEoNIzdfhSr"
      },
      "source": [
        "#### (d) Increasing Number of Data Points\n",
        "\n",
        "What happens when the number of points per class increases? What happens in the limit of an infinite number of points?"
      ]
    },
    {
      "cell_type": "markdown",
      "metadata": {
        "id": "zCvKl0MXfhSs"
      },
      "source": [
        "---\n"
      ]
    },
    {
      "cell_type": "markdown",
      "metadata": {
        "id": "T_D20VflfhSs"
      },
      "source": [
        "## 4 - Density estimation using Parzen densities **(Coding)**"
      ]
    },
    {
      "cell_type": "markdown",
      "metadata": {
        "id": "ahmNJxJafhSs"
      },
      "source": [
        "Next to classifiers, PRTools also has the possibility to estimate densities. In this section we are going to estimate the density using a Parzen density estimator, called parzenm in PRTools"
      ]
    },
    {
      "cell_type": "code",
      "execution_count": null,
      "metadata": {
        "id": "gUjTCsUPfhSt"
      },
      "outputs": [],
      "source": [
        "#We start with creating a simple dataset with:\n",
        "a = pr.gendats([20,20],1,8)\n",
        "\n",
        "#We define the width parameter h for the Parzen kernel:\n",
        "h = 0.5\n",
        "\n",
        "#The function parzenm estimates a density for a given dataset. In most cases a PRTools prdataset is labeled, and these labels are used in the function parzenm to estimate a density for each class. To define a Parzen density estimator with a certain width parameter h on the entire dataset, ignoring labels, type:\n",
        "a = pr.prdataset(+a)\n",
        "w = pr.parzenm(a,h)\n",
        "\n",
        "#This mapping can now be plotted along with the data:\n",
        "pr.scatterd(a)\n",
        "pr.plotm(w)\n",
        "\n",
        "#If your graphs look a little “bumpy”, you can increase the grid size PRTools uses for plotting:\n",
        "\n",
        "pr.plotm(w,gridsize=100)"
      ]
    },
    {
      "cell_type": "markdown",
      "metadata": {
        "id": "MxbEObydfhSt"
      },
      "source": [
        "When you want to evaluate the fit of a density model to some data, you have to define an error. One possibility is to use the log-likelihood, defined as:\n",
        "\n",
        "$$\n",
        "LL(X) = \\log \\prod_i \\hat{p}(x_i) = \\sum_i \\log(\\hat{p}(x_i)) \\tag{1.2}\n",
        "$$\n",
        "\n",
        "The better the data $x$ fits in the probability density model $\\hat{p}$, the higher the values of $\\hat{p}(x)$ will be. This will result in a high value of $\\sum_i \\log(\\hat{p}(x_i))$. When we have different probability density estimates $\\hat{p}$, we use the one which has the highest value of $LL$.\n",
        "\n",
        "Note that when we fill in different values for the width parameters $h$ in the Parzen density estimation, we have different estimates $\\hat{p}$. Using the log-likelihood as a criterion, we can optimize the value of this free parameter $h$ to maximize $LL$.\n",
        "\n",
        "To get an honest estimate of the log-likelihood, we have to evaluate the log-likelihood (1.2) on a test set. That means that we have to make (or measure) new data from the same distribution as where the training data came from. When we evaluate the log-likelihood on the data on which the probability density was fitted, we would get a too optimistic estimation of the error. We might conclude that we have fitted the data very well, while actually a new dataset from the same distribution does not fit in the density at all! Therefore, if you want to evaluate the performance of an estimated $\\hat{p}$, use an independent test set!\n"
      ]
    },
    {
      "cell_type": "markdown",
      "metadata": {
        "id": "SNkfXRdTfhSu"
      },
      "source": [
        "### **Exercise 4.1**"
      ]
    },
    {
      "cell_type": "markdown",
      "metadata": {
        "id": "c4DgiFIxfhSu"
      },
      "source": [
        "Use the data from the same distribution as in the previous exercise to train a Parzen density estimator for different values of h. Compute the log-likelihood of this training set given the estimated densities (for different $h$)"
      ]
    },
    {
      "cell_type": "code",
      "execution_count": null,
      "metadata": {
        "id": "2U5SxoM-fhSu"
      },
      "outputs": [],
      "source": [
        "a = pr.gendats([20,20],1,8)                 # Generate data\n",
        "a = pr.prdataset(+a)\n",
        "hs = [0.01,0.05,0.1,0.25,0.5,1,1.5,2,3,4,5] # Array of h’s to try\n",
        "LL = np.zeros(len(hs))\n",
        "for i in range(len(hs)):\n",
        "                                         # For each h...\n",
        "    w = pr.parzenm(a,hs[i])                  #   estimate Parzen density\n",
        "    LL[i] = np.sum(np.log(+(a*w)));          #   calculate log-likelihood\n",
        "plt.plot(hs,LL)\n",
        "plt.xlabel('h')\n",
        "plt.ylabel('log-likelihood')\n",
        "plt.title('Parzen density estimation')\n",
        "plt.show()"
      ]
    },
    {
      "cell_type": "markdown",
      "metadata": {
        "id": "fGfJi07jfhSu"
      },
      "source": [
        "What is the optimal value for h, i.e. the maximal likelihood? Is this also the best density estimate for the dataset?\n"
      ]
    },
    {
      "cell_type": "markdown",
      "metadata": {
        "id": "AEVOdkBJfhSu"
      },
      "source": [
        "### **Exercise 4.2**\n",
        "\n",
        "Use the same data as in the previous exercise, but now split the data into a training and test set of equal size. Estimate a Parzen density on the training set and compute the Parzen density for the test set. Compute the log-likelihood on both the training and test sets for $ h = [0.1, 0.25, 0.5, 1, 1.5, 2, 3, 4, 5] $. Plot these log-likelihood vs. $ h $ curves"
      ]
    },
    {
      "cell_type": "code",
      "execution_count": null,
      "metadata": {
        "id": "ZzP2aCFsfhSu"
      },
      "outputs": [],
      "source": [
        "# Split into trn and tst, both 50%\n",
        "[trn, tst] = pr.gendat(a, 0.5)\n",
        "\n",
        "# Array of h’s to try\n",
        "hs = [0.01, 0.05, 0.1, 0.25, 0.5, 1, 1.5, 2, 3, 4, 5]\n",
        "\n",
        "# Initialize log-likelihood arrays\n",
        "Ltrn = np.zeros(len(hs))\n",
        "Ltst = np.zeros(len(hs))\n",
        "\n",
        "# For each h...\n",
        "for i in range(len(hs)):\n",
        "    # Estimate Parzen density\n",
        "    w = pr.parzenm(trn, hs[i])\n",
        "\n",
        "    # Calculate trn log-likelihood\n",
        "    Ltrn[i] = np.sum(np.log(+(trn * w)))\n",
        "\n",
        "    # Calculate tst log-likelihood\n",
        "    Ltst[i] = np.sum(np.log(+(tst * w)))\n",
        "\n",
        "# Plot log-likelihood as function of h\n",
        "plt.plot(hs, Ltrn, 'b-', label='Training Log-Likelihood')  # Plot trn log-likelihood as function of h\n",
        "plt.plot(hs, Ltst, 'r-', label='Test Log-Likelihood')      # Plot tst log-likelihood as function of h\n",
        "plt.xlabel('h')\n",
        "plt.ylabel('Log-Likelihood')\n",
        "plt.legend()\n",
        "plt.show()"
      ]
    },
    {
      "cell_type": "markdown",
      "metadata": {
        "id": "u5P_symSfhSv"
      },
      "source": [
        "What is a good choice for $ h $?"
      ]
    },
    {
      "cell_type": "markdown",
      "metadata": {
        "id": "rymE6Aa_fhSv"
      },
      "source": [
        "---\n"
      ]
    }
  ],
  "metadata": {
    "kernelspec": {
      "display_name": "Python 3 (ipykernel)",
      "language": "python",
      "name": "python3"
    },
    "language_info": {
      "codemirror_mode": {
        "name": "ipython",
        "version": 3
      },
      "file_extension": ".py",
      "mimetype": "text/x-python",
      "name": "python",
      "nbconvert_exporter": "python",
      "pygments_lexer": "ipython3",
      "version": "3.9.7"
    },
    "colab": {
      "provenance": [],
      "include_colab_link": true
    }
  },
  "nbformat": 4,
  "nbformat_minor": 0
}